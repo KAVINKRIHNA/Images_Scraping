{
 "cells": [
  {
   "cell_type": "code",
   "execution_count": 1,
   "id": "d689b1d5-4f90-47f8-a697-57c229761c71",
   "metadata": {},
   "outputs": [],
   "source": [
    "import requests\n",
    "from bs4 import BeautifulSoup\n",
    "import os\n",
    "from urllib.request import urlopen as uReq"
   ]
  },
  {
   "cell_type": "code",
   "execution_count": 2,
   "id": "df82fad7-e9ed-4ebd-b01e-1b747ccdaa7b",
   "metadata": {},
   "outputs": [],
   "source": [
    "save_dir = \"images_scrap/\"\n",
    "if not os.path.exists(save_dir):\n",
    "    os.makedirs(save_dir) "
   ]
  },
  {
   "cell_type": "code",
   "execution_count": 14,
   "id": "f80bb4ce-9fba-4cb7-9746-c4ea1fabfc55",
   "metadata": {},
   "outputs": [],
   "source": [
    "response = requests.get(\"https://www.google.com/search?q=kavin+krishna&sca_esv=578154760&tbm=isch&sxsrf=AM9HkKkeFu-Qi0GXayxym8gb5NEvrhjFUg%3A1698761925191&source=hp&biw=767&bih=728&ei=xQxBZf21CcTV1e8P0qiE2Ac&iflsig=AO6bgOgAAAAAZUEa1bhY-YR7QUF0hw9PhUNHfRUhVWan&ved=0ahUKEwi9rO2ovaCCAxXEavUHHVIUAXsQ4dUDCAc&uact=5&oq=kavin+krishna&gs_lp=EgNpbWciDWthdmluIGtyaXNobmEyBxAAGBgYgAQyBxAAGBgYgAQyBxAAGBgYgARIsThQ2AhYwihwAXgAkAEAmAHcAaABjBGqAQYwLjExLjK4AQPIAQD4AQGKAgtnd3Mtd2l6LWltZ6gCCsICBxAjGOoCGCfCAgQQIxgnwgIIEAAYsQMYgwHCAgUQABiABMICCBAAGIAEGLEDwgILEAAYgAQYsQMYgwHCAgQQABgD&sclient=img\")"
   ]
  },
  {
   "cell_type": "code",
   "execution_count": 15,
   "id": "47352561-5079-4ddf-af1d-c601d5ef790b",
   "metadata": {},
   "outputs": [
    {
     "data": {
      "text/plain": [
       "<Response [200]>"
      ]
     },
     "execution_count": 15,
     "metadata": {},
     "output_type": "execute_result"
    }
   ],
   "source": [
    "response"
   ]
  },
  {
   "cell_type": "code",
   "execution_count": 16,
   "id": "7d8a13e7-6271-4241-95a5-18d5d11c5009",
   "metadata": {},
   "outputs": [
    {
     "data": {
      "text/plain": [
       "<!DOCTYPE html PUBLIC \"-//WAPFORUM//DTD XHTML Mobile 1.0//EN\" \"http://www.wapforum.org/DTD/xhtml-mobile10.dtd\">\n",
       "<html lang=\"en-IN\" xmlns=\"http://www.w3.org/1999/xhtml\"><head><meta content=\"application/xhtml+xml; charset=utf-8\" http-equiv=\"Content-Type\"/><meta content=\"no-cache\" name=\"Cache-Control\"/><title>kavin krishna - Google Search</title><style>a{text-decoration:none;color:inherit}a:hover{text-decoration:underline}a img{border:0}body{font-family:arial,sans-serif;padding:8px;margin:0 auto;max-width:700px;min-width:240px;}.FbhRzb{border-left:thin solid #dadce0;border-right:thin solid #dadce0;border-top:thin solid #dadce0;height:40px;overflow:hidden}.n692Zd{margin-bottom:10px}.cvifge{height:40px;border-spacing:0}.QvGUP{height:40px;padding:0 8px 0 8px;vertical-align:top}.O4cRJf{height:40px;width:100%;padding:0;padding-right:16px}.O1ePr{height:40px;padding:0;vertical-align:top}.kgJEQe{height:36px;width:98px;vertical-align:top;margin-top:4px}.lXLRf{vertical-align:top}.MhzMZd{border:0;vertical-align:middle;font-size:14px;height:40px;padding:0;width:100%;padding-left:16px}.xB0fq{height:40px;border:none;font-size:14px;background-color:#1a73e8;color:#fff;padding:0 16px;margin:0;vertical-align:top;cursor:pointer}.xB0fq:focus{border:1px solid #1a73e8}.M7pB2{border:thin solid #dadce0;margin:0 0 3px 0;font-size:13px;font-weight:500;height:40px}.euZec{width:100%;height:40px;text-align:center;border-spacing:0}table.euZec td{padding:0;width:25%}.QIqI7{display:inline-block;padding-top:4px;font-weight:bold;color:#4285f4}.EY24We{border-bottom:2px solid #4285f4}.CsQyDc{display:inline-block;color:#70757a}.TuS8Ad{font-size:14px}.HddGcc{padding:8px;color:#70757a}.dzp8ae{font-weight:bold;color:#3c4043}.rEM8G{color:#70757a}.bookcf{table-layout:fixed;width:100%;border-spacing:0}.InWNIe{text-align:center}.uZgmoc{border:thin solid #dadce0;color:#70757a;font-size:14px;text-align:center;table-layout:fixed;width:100%}.frGj1b{display:block;padding:12px 0 12px 0;width:100%}.BnJWBc{text-align:center;padding:6px 0 13px 0;height:35px}.e3goi{vertical-align:top;padding:0;height:180px}.GpQGbf{margin:auto;border-collapse:collapse;border-spacing:0;width:100%}</style></head><body><style>.X6ZCif{color:#202124;font-size:11px;line-height:16px;display:inline-block;padding-top:2px;overflow:hidden;padding-bottom:4px;width:100%}.TwVfHd{border-radius:16px;border:thin solid #dadce0;display:inline-block;padding:8px 8px;margin-right:8px;margin-bottom:4px}.yekiAe{background-color:#dadce0}.jjVJ4e{width:100%}.ezO2md{border:thin solid #dadce0;padding:12px 16px 12px 16px;margin-bottom:10px;font-family:arial,sans-serif}.lIMUZd{font-family:arial,sans-serif}.RntSmf{border-spacing:0}.lgD2Tc{width:100%}.SpelHe{text-align:center}.SpelHe{position:relative}.deHqpb{bottom:0;left:0;margin:auto;position:absolute;right:0;top:0}.kCmkOe{position:relative}.ID6Z3b{background-image:url(https://www.gstatic.com/search_trustx/visibility_off_icon_p0-7d897bf44bafe5436baa9009e8716337.png);background-repeat:no-repeat;background-position:center;background-size:20px}.kCmkOe{width:162px;height:140px;line-height:140px;overflow:'hidden';text-align:center}.DS1iW{text-align:center;margin:auto;vertical-align:middle;max-width:162px;max-height:140px}.AlD19d{padding-top:2px;padding-bottom:8px;}.fYyStc{word-break:break-word}.ynsChf{display:block;white-space:nowrap;overflow:hidden;text-overflow:ellipsis}.Fj3V3b{color:#1967d2;font-size:14px;line-height:20px}.FrIlee{color:#202124;font-size:11px;line-height:16px}.F9iS2e{color:#70757a;font-size:11px;line-height:16px}.WMQ2Le{color:#70757a;font-size:12px;line-height:16px}.x3G5ab{color:#202124;font-size:12px;line-height:16px}.fuLhoc{color:#1967d2;font-size:16px;line-height:20px}.epoveb{font-size:24px;line-height:28px;font-weight:400;color:#202124}.dXDvrc{color:#0d652d;font-size:14px;line-height:20px;word-wrap:break-word}.dloBPe{font-weight:bold}.YVIcad{color:#70757a}.JkVVdd{color:#ea4335}.oXZRFd{color:#ea4335}.MQHtg{color:#fbbc04}.pyMRrb{color:#1e8e3e}.EtTZid{color:#1e8e3e}.M3vVJe{color:#1967d2}.qXLe6d{display:block}.NHQNef{font-style:italic}.Cb8Z7c{white-space:pre}a.ZWRArf{text-decoration:none}a .CVA68e:hover{text-decoration:underline}</style><div class=\"n692Zd\"><div class=\"BnJWBc\"><a class=\"lXLRf\" href=\"/?sca_esv=578154760&amp;biw=767&amp;bih=728&amp;output=images&amp;ie=UTF-8&amp;tbm=isch&amp;sa=X&amp;ved=0ahUKEwjr6ZnYwqCCAxUyzzgGHWFcC5AQPAgC\"><img alt=\"Google\" class=\"kgJEQe\" src=\"/images/branding/searchlogo/1x/googlelogo_desk_heirloom_color_150x55dp.gif\"/></a></div><div class=\"FbhRzb\"><form action=\"/search\"><input name=\"sca_esv\" type=\"hidden\" value=\"578154760\"/><input name=\"biw\" type=\"hidden\" value=\"767\"/><input name=\"bih\" type=\"hidden\" value=\"728\"/><input name=\"ie\" type=\"hidden\" value=\"ISO-8859-1\"/><input name=\"tbm\" type=\"hidden\" value=\"isch\"/><input name=\"oq\" type=\"hidden\"/><input name=\"aqs\" type=\"hidden\"/><table class=\"cvifge\"><tr><td class=\"O4cRJf\"><input class=\"MhzMZd\" name=\"q\" type=\"text\" value=\"kavin krishna\"/></td><td class=\"O1ePr\"><input class=\"xB0fq\" type=\"submit\" value=\"Search\"/></td></tr></table></form></div><div class=\"M7pB2\"><table class=\"euZec\"><tbody><tr><td><a class=\"CsQyDc\" href=\"/search?q=kavin+krishna&amp;sca_esv=578154760&amp;biw=767&amp;bih=728&amp;ie=UTF-8&amp;source=lnms&amp;sa=X&amp;ved=0ahUKEwjr6ZnYwqCCAxUyzzgGHWFcC5AQ_AUIBCgA\">ALL</a></td><td class=\"EY24We\"><span class=\"QIqI7\">IMAGES</span></td><td><a class=\"CsQyDc\" href=\"/search?q=kavin+krishna&amp;sca_esv=578154760&amp;biw=767&amp;bih=728&amp;ie=UTF-8&amp;tbm=vid&amp;source=lnms&amp;sa=X&amp;ved=0ahUKEwjr6ZnYwqCCAxUyzzgGHWFcC5AQ_AUIBigC\">VIDEOS</a></td><td><a class=\"CsQyDc\" href=\"/search?q=kavin+krishna&amp;sca_esv=578154760&amp;biw=767&amp;bih=728&amp;ie=UTF-8&amp;tbm=nws&amp;source=lnms&amp;sa=X&amp;ved=0ahUKEwjr6ZnYwqCCAxUyzzgGHWFcC5AQ_AUIBygD\">NEWS</a></td></tr></tbody></table></div></div><div class=\"X6ZCif\"><a class=\"TwVfHd\" href=\"/search?sca_esv=578154760&amp;biw=767&amp;bih=728&amp;ie=UTF-8&amp;tbm=isch&amp;q=kavin+krishna&amp;chips=q:kavin+krishna,online_chips:webnox+technologies&amp;sa=X&amp;ved=0ahUKEwjr6ZnYwqCCAxUyzzgGHWFcC5AQ4lYICygA\">webnox technologies</a><a class=\"TwVfHd\" href=\"/search?sca_esv=578154760&amp;biw=767&amp;bih=728&amp;ie=UTF-8&amp;tbm=isch&amp;q=kavin+krishna&amp;chips=q:kavin+krishna,online_chips:beard&amp;sa=X&amp;ved=0ahUKEwjr6ZnYwqCCAxUyzzgGHWFcC5AQ4lYIDCgB\">beard</a><a class=\"TwVfHd\" href=\"/search?sca_esv=578154760&amp;biw=767&amp;bih=728&amp;ie=UTF-8&amp;tbm=isch&amp;q=kavin+krishna&amp;chips=q:kavin+krishna,online_chips:kavin+kumar&amp;sa=X&amp;ved=0ahUKEwjr6ZnYwqCCAxUyzzgGHWFcC5AQ4lYIDSgC\">kavin kumar</a><a class=\"TwVfHd\" href=\"/search?sca_esv=578154760&amp;biw=767&amp;bih=728&amp;ie=UTF-8&amp;tbm=isch&amp;q=kavin+krishna&amp;chips=q:kavin+krishna,online_chips:informatica&amp;sa=X&amp;ved=0ahUKEwjr6ZnYwqCCAxUyzzgGHWFcC5AQ4lYIDigD\">informatica</a><a class=\"TwVfHd\" href=\"/search?sca_esv=578154760&amp;biw=767&amp;bih=728&amp;ie=UTF-8&amp;tbm=isch&amp;q=kavin+krishna&amp;chips=q:kavin+krishna,online_chips:krishna+jhula&amp;sa=X&amp;ved=0ahUKEwjr6ZnYwqCCAxUyzzgGHWFcC5AQ4lYIDygE\">krishna jhula</a><a class=\"TwVfHd\" href=\"/search?sca_esv=578154760&amp;biw=767&amp;bih=728&amp;ie=UTF-8&amp;tbm=isch&amp;q=kavin+krishna&amp;chips=q:kavin+krishna,online_chips:krishna+raj&amp;sa=X&amp;ved=0ahUKEwjr6ZnYwqCCAxUyzzgGHWFcC5AQ4lYIECgF\">krishna raj</a><a class=\"TwVfHd\" href=\"/search?sca_esv=578154760&amp;biw=767&amp;bih=728&amp;ie=UTF-8&amp;tbm=isch&amp;q=kavin+krishna&amp;chips=q:kavin+krishna,online_chips:prasad&amp;sa=X&amp;ved=0ahUKEwjr6ZnYwqCCAxUyzzgGHWFcC5AQ4lYIESgG\">prasad</a><a class=\"TwVfHd\" href=\"/search?sca_esv=578154760&amp;biw=767&amp;bih=728&amp;ie=UTF-8&amp;tbm=isch&amp;q=kavin+krishna&amp;chips=q:kavin+krishna,online_chips:trident+pneumatics&amp;sa=X&amp;ved=0ahUKEwjr6ZnYwqCCAxUyzzgGHWFcC5AQ4lYIEigH\">trident pneumatics</a><a class=\"TwVfHd\" href=\"/search?sca_esv=578154760&amp;biw=767&amp;bih=728&amp;ie=UTF-8&amp;tbm=isch&amp;q=kavin+krishna&amp;chips=q:kavin+krishna,online_chips:certificate&amp;sa=X&amp;ved=0ahUKEwjr6ZnYwqCCAxUyzzgGHWFcC5AQ4lYIEygI\">certificate</a><a class=\"TwVfHd\" href=\"/search?sca_esv=578154760&amp;biw=767&amp;bih=728&amp;ie=UTF-8&amp;tbm=isch&amp;q=kavin+krishna&amp;chips=q:kavin+krishna,online_chips:actor&amp;sa=X&amp;ved=0ahUKEwjr6ZnYwqCCAxUyzzgGHWFcC5AQ4lYIFCgJ\">actor</a></div><div><table class=\"GpQGbf\"><tr><td align=\"center\" class=\"e3goi\"><div class=\"jjVJ4e\"> <div> <div class=\"lIMUZd\"><div><table class=\"RntSmf\"><tr><td><a href=\"/url?q=https://in.linkedin.com/in/kavin-krishna-a9bb93156&amp;sa=U&amp;ved=2ahUKEwjr6ZnYwqCCAxUyzzgGHWFcC5AQqoUBegQIBRAB&amp;usg=AOvVaw0WTSnRndDPhfHnP7D1m9pn\"><div class=\"kCmkOe\"><img alt=\"\" class=\"DS1iW\" src=\"https://encrypted-tbn0.gstatic.com/images?q=tbn:ANd9GcTKqdUKEX2-8d-EeoSLAiicpLY38M_KWt300OVlNwpMTNngyQ78Zx3BpYug6A&amp;s\"/></div></a></td></tr><tr><td><a href=\"/url?q=https://in.linkedin.com/in/kavin-krishna-a9bb93156&amp;sa=U&amp;ved=2ahUKEwjr6ZnYwqCCAxUyzzgGHWFcC5AQr4kDegQIBRAC&amp;usg=AOvVaw1msaA3YLwazl6FRUzRIxeb\"><div class=\"AlD19d\"> <span class=\"qXLe6d x3G5ab\"> <span class=\"fYyStc\">Kavin Krishna - Chennai,...</span> </span> <span class=\"qXLe6d F9iS2e\"> <span class=\"fYyStc\">in.linkedin.com</span> </span> </div></a></td></tr></table></div></div> </div> </div></td><td align=\"center\" class=\"e3goi\"><div class=\"jjVJ4e\"> <div> <div class=\"lIMUZd\"><div><table class=\"RntSmf\"><tr><td><a href=\"/url?q=https://twitter.com/kavin2k&amp;sa=U&amp;ved=2ahUKEwjr6ZnYwqCCAxUyzzgGHWFcC5AQqoUBegQIExAB&amp;usg=AOvVaw2lelyqFxbJBP5kiI71DSnl\"><div class=\"kCmkOe\"><img alt=\"\" class=\"DS1iW\" src=\"https://encrypted-tbn0.gstatic.com/images?q=tbn:ANd9GcSD2_PItau9pd-NQ5bVz1aU17S85sNvVGivuSMV8r2lpq7OxrQ-tG11I6b3QA&amp;s\"/></div></a></td></tr><tr><td><a href=\"/url?q=https://twitter.com/kavin2k&amp;sa=U&amp;ved=2ahUKEwjr6ZnYwqCCAxUyzzgGHWFcC5AQr4kDegQIExAC&amp;usg=AOvVaw3MNKoB-1JBn2t4KQeQrgQI\"><div class=\"AlD19d\"> <span class=\"qXLe6d x3G5ab\"> <span class=\"fYyStc\">kavin krishna (@kavin2k) /...</span> </span> <span class=\"qXLe6d F9iS2e\"> <span class=\"fYyStc\">twitter.com</span> </span> </div></a></td></tr></table></div></div> </div> </div></td><td align=\"center\" class=\"e3goi\"><div class=\"jjVJ4e\"> <div> <div class=\"lIMUZd\"><div><table class=\"RntSmf\"><tr><td><a href=\"/url?q=https://www.superprof.co.in/software-professional-with-strong-knowledge-programming-and-mathematics.html&amp;sa=U&amp;ved=2ahUKEwjr6ZnYwqCCAxUyzzgGHWFcC5AQqoUBegQIEhAB&amp;usg=AOvVaw1qlTbK7Vna68fOo0D0n0c0\"><div class=\"kCmkOe\"><img alt=\"\" class=\"DS1iW\" src=\"https://encrypted-tbn0.gstatic.com/images?q=tbn:ANd9GcRCf32n6Zi7xRqi2UnRAI3zwhSLl4Lu0gOl_qa63Kx3TAdQKCrUXGJ2XdRXGg&amp;s\"/></div></a></td></tr><tr><td><a href=\"/url?q=https://www.superprof.co.in/software-professional-with-strong-knowledge-programming-and-mathematics.html&amp;sa=U&amp;ved=2ahUKEwjr6ZnYwqCCAxUyzzgGHWFcC5AQr4kDegQIEhAC&amp;usg=AOvVaw0FFsXjA9wxzBFuZykJxZwG\"><div class=\"AlD19d\"> <span class=\"qXLe6d x3G5ab\"> <span class=\"fYyStc\">Kavin krishna -...</span> </span> <span class=\"qXLe6d F9iS2e\"> <span class=\"fYyStc\">www.superprof.co.in</span> </span> </div></a></td></tr></table></div></div> </div> </div></td><td align=\"center\" class=\"e3goi\"><div class=\"jjVJ4e\"> <div> <div class=\"lIMUZd\"><div><table class=\"RntSmf\"><tr><td><a href=\"/url?q=https://in.linkedin.com/in/kavin-krishna-265699258&amp;sa=U&amp;ved=2ahUKEwjr6ZnYwqCCAxUyzzgGHWFcC5AQqoUBegQICxAB&amp;usg=AOvVaw3PCXbxt-Vayt92MEmZ1ZPB\"><div class=\"kCmkOe\"><img alt=\"\" class=\"DS1iW\" src=\"https://encrypted-tbn0.gstatic.com/images?q=tbn:ANd9GcQMr2TH95LMWScmhPU1XPb9srhhLmcMQgRNjTbvfpvq0tShg3pTKfgmS0XOIv0&amp;s\"/></div></a></td></tr><tr><td><a href=\"/url?q=https://in.linkedin.com/in/kavin-krishna-265699258&amp;sa=U&amp;ved=2ahUKEwjr6ZnYwqCCAxUyzzgGHWFcC5AQr4kDegQICxAC&amp;usg=AOvVaw0E0MwzDPou64LUOmkuKDeC\"><div class=\"AlD19d\"> <span class=\"qXLe6d x3G5ab\"> <span class=\"fYyStc\">kavin Krishna - Sri Krishna...</span> </span> <span class=\"qXLe6d F9iS2e\"> <span class=\"fYyStc\">in.linkedin.com</span> </span> </div></a></td></tr></table></div></div> </div> </div></td></tr><tr><td align=\"center\" class=\"e3goi\"><div class=\"jjVJ4e\"> <div> <div class=\"lIMUZd\"><div><table class=\"RntSmf\"><tr><td><a href=\"/url?q=https://in.linkedin.com/in/kavinkrishna18&amp;sa=U&amp;ved=2ahUKEwjr6ZnYwqCCAxUyzzgGHWFcC5AQqoUBegQIDhAB&amp;usg=AOvVaw2zCMoLiiWhJgFH7CJFv6ue\"><div class=\"kCmkOe\"><img alt=\"\" class=\"DS1iW\" src=\"https://encrypted-tbn0.gstatic.com/images?q=tbn:ANd9GcSoU7V4yrb6L2FHLUyWz2U86EkuEeCmEx9YD9lnFsopt07DeBmjmh4WsRvco44&amp;s\"/></div></a></td></tr><tr><td><a href=\"/url?q=https://in.linkedin.com/in/kavinkrishna18&amp;sa=U&amp;ved=2ahUKEwjr6ZnYwqCCAxUyzzgGHWFcC5AQr4kDegQIDhAC&amp;usg=AOvVaw1x5SfpRC88PP1jMoNxjVzJ\"><div class=\"AlD19d\"> <span class=\"qXLe6d x3G5ab\"> <span class=\"fYyStc\">Kavin Krishna - Tax Senior...</span> </span> <span class=\"qXLe6d F9iS2e\"> <span class=\"fYyStc\">in.linkedin.com</span> </span> </div></a></td></tr></table></div></div> </div> </div></td><td align=\"center\" class=\"e3goi\"><div class=\"jjVJ4e\"> <div> <div class=\"lIMUZd\"><div><table class=\"RntSmf\"><tr><td><a href=\"/url?q=https://in.linkedin.com/in/kavin-krishna-s-b7678020a&amp;sa=U&amp;ved=2ahUKEwjr6ZnYwqCCAxUyzzgGHWFcC5AQqoUBegQIEBAB&amp;usg=AOvVaw2Yuo6xeq-jfe_o0K5YBTNI\"><div class=\"kCmkOe\"><img alt=\"\" class=\"DS1iW\" src=\"https://encrypted-tbn0.gstatic.com/images?q=tbn:ANd9GcTBzD0sFR31W0rAjVKsU5cy4AS_GwGc-EeBQrWl1qYMK_NdSabRdGnXM9BsBA&amp;s\"/></div></a></td></tr><tr><td><a href=\"/url?q=https://in.linkedin.com/in/kavin-krishna-s-b7678020a&amp;sa=U&amp;ved=2ahUKEwjr6ZnYwqCCAxUyzzgGHWFcC5AQr4kDegQIEBAC&amp;usg=AOvVaw1LPWNczu6A4y_Lbz-CyOOP\"><div class=\"AlD19d\"> <span class=\"qXLe6d x3G5ab\"> <span class=\"fYyStc\">Kavin krishna .S - Chennai,...</span> </span> <span class=\"qXLe6d F9iS2e\"> <span class=\"fYyStc\">in.linkedin.com</span> </span> </div></a></td></tr></table></div></div> </div> </div></td><td align=\"center\" class=\"e3goi\"><div class=\"jjVJ4e\"> <div> <div class=\"lIMUZd\"><div><table class=\"RntSmf\"><tr><td><a href=\"/url?q=https://in.linkedin.com/in/kavin-krishna-s-14245a227%3Ftrk%3Dpeople-guest_people_search-card&amp;sa=U&amp;ved=2ahUKEwjr6ZnYwqCCAxUyzzgGHWFcC5AQqoUBegQIDxAB&amp;usg=AOvVaw1j2WNL5XssEBv3NTV4fAvy\"><div class=\"kCmkOe\"><img alt=\"\" class=\"DS1iW\" src=\"https://encrypted-tbn0.gstatic.com/images?q=tbn:ANd9GcRpeRx4JoMKCUsu5k3Abwj-32LU9htugsKnnv8-Bmoz-JPpCxk57jNh8313P6o&amp;s\"/></div></a></td></tr><tr><td><a href=\"/url?q=https://in.linkedin.com/in/kavin-krishna-s-14245a227%3Ftrk%3Dpeople-guest_people_search-card&amp;sa=U&amp;ved=2ahUKEwjr6ZnYwqCCAxUyzzgGHWFcC5AQr4kDegQIDxAC&amp;usg=AOvVaw3M7UVMmBV-QCl8A_M0-xDc\"><div class=\"AlD19d\"> <span class=\"qXLe6d x3G5ab\"> <span class=\"fYyStc\">Kavin Krishna.s - Adoro...</span> </span> <span class=\"qXLe6d F9iS2e\"> <span class=\"fYyStc\">in.linkedin.com</span> </span> </div></a></td></tr></table></div></div> </div> </div></td><td align=\"center\" class=\"e3goi\"><div class=\"jjVJ4e\"> <div> <div class=\"lIMUZd\"><div><table class=\"RntSmf\"><tr><td><a href=\"/url?q=https://in.linkedin.com/in/kavinkrishnaprasad&amp;sa=U&amp;ved=2ahUKEwjr6ZnYwqCCAxUyzzgGHWFcC5AQqoUBegQIDBAB&amp;usg=AOvVaw26peNp4mGVw7bnnRkbjgnN\"><div class=\"kCmkOe\"><img alt=\"\" class=\"DS1iW\" src=\"https://encrypted-tbn0.gstatic.com/images?q=tbn:ANd9GcSYS7UrcNz7Q6JMTo9hGKfeU4ArdGaneoJPo6Hd_5u0YHQjG2oJ8w_2xBHcDCM&amp;s\"/></div></a></td></tr><tr><td><a href=\"/url?q=https://in.linkedin.com/in/kavinkrishnaprasad&amp;sa=U&amp;ved=2ahUKEwjr6ZnYwqCCAxUyzzgGHWFcC5AQr4kDegQIDBAC&amp;usg=AOvVaw11BclqqJTKLdp6LX3v0F9Q\"><div class=\"AlD19d\"> <span class=\"qXLe6d x3G5ab\"> <span class=\"fYyStc\">Kavin Krishna Prasad -...</span> </span> <span class=\"qXLe6d F9iS2e\"> <span class=\"fYyStc\">in.linkedin.com</span> </span> </div></a></td></tr></table></div></div> </div> </div></td></tr><tr><td align=\"center\" class=\"e3goi\"><div class=\"jjVJ4e\"> <div> <div class=\"lIMUZd\"><div><table class=\"RntSmf\"><tr><td><a href=\"/url?q=https://in.linkedin.com/in/kavin-krishna-ba6101252&amp;sa=U&amp;ved=2ahUKEwjr6ZnYwqCCAxUyzzgGHWFcC5AQqoUBegQIERAB&amp;usg=AOvVaw0103tFZ6UZ2x8dPWLF_NTi\"><div class=\"kCmkOe\"><img alt=\"\" class=\"DS1iW\" src=\"https://encrypted-tbn0.gstatic.com/images?q=tbn:ANd9GcRGauGFNhWetvX4KpXrBYNpk6Nmd93R7XrlSULnANDp3EzKqhu1St0NKJQfQA&amp;s\"/></div></a></td></tr><tr><td><a href=\"/url?q=https://in.linkedin.com/in/kavin-krishna-ba6101252&amp;sa=U&amp;ved=2ahUKEwjr6ZnYwqCCAxUyzzgGHWFcC5AQr4kDegQIERAC&amp;usg=AOvVaw3fuPhzd1lxJ0eNtiSrOEE8\"><div class=\"AlD19d\"> <span class=\"qXLe6d x3G5ab\"> <span class=\"fYyStc\">Kavin Krishna - Account...</span> </span> <span class=\"qXLe6d F9iS2e\"> <span class=\"fYyStc\">in.linkedin.com</span> </span> </div></a></td></tr></table></div></div> </div> </div></td><td align=\"center\" class=\"e3goi\"><div class=\"jjVJ4e\"> <div> <div class=\"lIMUZd\"><div><table class=\"RntSmf\"><tr><td><a href=\"/url?q=https://in.linkedin.com/in/kavin-krishna-b905181b6&amp;sa=U&amp;ved=2ahUKEwjr6ZnYwqCCAxUyzzgGHWFcC5AQqoUBegQIChAB&amp;usg=AOvVaw0jKX9GyBSNsxhNxLPY-uQB\"><div class=\"kCmkOe\"><img alt=\"\" class=\"DS1iW\" src=\"https://encrypted-tbn0.gstatic.com/images?q=tbn:ANd9GcTMVZN554lmw9hOAUpbTFknKt73KcR_i_AWcp02F4NiBez3k8_VczarAC2HXw&amp;s\"/></div></a></td></tr><tr><td><a href=\"/url?q=https://in.linkedin.com/in/kavin-krishna-b905181b6&amp;sa=U&amp;ved=2ahUKEwjr6ZnYwqCCAxUyzzgGHWFcC5AQr4kDegQIChAC&amp;usg=AOvVaw3Ach-WPde62j9xM0FBVQEz\"><div class=\"AlD19d\"> <span class=\"qXLe6d x3G5ab\"> <span class=\"fYyStc\">kavin Krishna - Service...</span> </span> <span class=\"qXLe6d F9iS2e\"> <span class=\"fYyStc\">in.linkedin.com</span> </span> </div></a></td></tr></table></div></div> </div> </div></td><td align=\"center\" class=\"e3goi\"><div class=\"jjVJ4e\"> <div> <div class=\"lIMUZd\"><div><table class=\"RntSmf\"><tr><td><a href=\"/url?q=https://in.linkedin.com/in/kavin-krishna-akula-9b3952218&amp;sa=U&amp;ved=2ahUKEwjr6ZnYwqCCAxUyzzgGHWFcC5AQqoUBegQICRAB&amp;usg=AOvVaw1yQqpwlda6y0TJ9yK_tV39\"><div class=\"kCmkOe\"><img alt=\"\" class=\"DS1iW\" src=\"https://encrypted-tbn0.gstatic.com/images?q=tbn:ANd9GcRf9wnL8IMJ6ZYbBtkHWrECWCAeeKjaSBWV2joJfnF6daVacNEQ3shBvCUZXww&amp;s\"/></div></a></td></tr><tr><td><a href=\"/url?q=https://in.linkedin.com/in/kavin-krishna-akula-9b3952218&amp;sa=U&amp;ved=2ahUKEwjr6ZnYwqCCAxUyzzgGHWFcC5AQr4kDegQICRAC&amp;usg=AOvVaw0fi-MUg_cK4IGn3EjZYTyS\"><div class=\"AlD19d\"> <span class=\"qXLe6d x3G5ab\"> <span class=\"fYyStc\">Kavin Krishna Akula -...</span> </span> <span class=\"qXLe6d F9iS2e\"> <span class=\"fYyStc\">in.linkedin.com</span> </span> </div></a></td></tr></table></div></div> </div> </div></td><td align=\"center\" class=\"e3goi\"><div class=\"jjVJ4e\"> <div> <div class=\"lIMUZd\"><div><table class=\"RntSmf\"><tr><td><a href=\"/url?q=https://m.youtube.com/watch%3Fv%3DLO2U57WiXtU&amp;sa=U&amp;ved=2ahUKEwjr6ZnYwqCCAxUyzzgGHWFcC5AQqoUBegQIDRAB&amp;usg=AOvVaw1AwJa3HNWxVL48VrFQmxop\"><div class=\"kCmkOe\"><img alt=\"\" class=\"DS1iW\" src=\"https://encrypted-tbn0.gstatic.com/images?q=tbn:ANd9GcRqKrAZ-_RffakzaXiehsUXy1WYONr7UcOW7m3wBJlHWt3pVVMge-TFk5zchA&amp;s\"/></div></a></td></tr><tr><td><a href=\"/url?q=https://m.youtube.com/watch%3Fv%3DLO2U57WiXtU&amp;sa=U&amp;ved=2ahUKEwjr6ZnYwqCCAxUyzzgGHWFcC5AQr4kDegQIDRAC&amp;usg=AOvVaw2Nlv40X28fo6Def9h1HfST\"><div class=\"AlD19d\"> <span class=\"qXLe6d x3G5ab\"> <span class=\"fYyStc\">Director Nelson மாதிரி ஒரு...</span> </span> <span class=\"qXLe6d F9iS2e\"> <span class=\"fYyStc\">m.youtube.com</span> </span> </div></a></td></tr></table></div></div> </div> </div></td></tr><tr><td align=\"center\" class=\"e3goi\"><div class=\"jjVJ4e\"> <div> <div class=\"lIMUZd\"><div><table class=\"RntSmf\"><tr><td><a href=\"/url?q=https://tr.pinterest.com/kavinkrishna/&amp;sa=U&amp;ved=2ahUKEwjr6ZnYwqCCAxUyzzgGHWFcC5AQqoUBegQIAhAB&amp;usg=AOvVaw2EpykI5T0eSPOd4vIGX_l7\"><div class=\"kCmkOe\"><img alt=\"\" class=\"DS1iW\" src=\"https://encrypted-tbn0.gstatic.com/images?q=tbn:ANd9GcSjDFKgXQqOLaOSsAWjTGuv5KmCV7qN1m_586nDw7jMaT-Li5ChfqJo4yr97U8&amp;s\"/></div></a></td></tr><tr><td><a href=\"/url?q=https://tr.pinterest.com/kavinkrishna/&amp;sa=U&amp;ved=2ahUKEwjr6ZnYwqCCAxUyzzgGHWFcC5AQr4kDegQIAhAC&amp;usg=AOvVaw1-Miz0gtgsdxrmWNqjhsKc\"><div class=\"AlD19d\"> <span class=\"qXLe6d x3G5ab\"> <span class=\"fYyStc\">Kavin Krishna...</span> </span> <span class=\"qXLe6d F9iS2e\"> <span class=\"fYyStc\">tr.pinterest.com</span> </span> </div></a></td></tr></table></div></div> </div> </div></td><td align=\"center\" class=\"e3goi\"><div class=\"jjVJ4e\"> <div> <div class=\"lIMUZd\"><div><table class=\"RntSmf\"><tr><td><a href=\"/url?q=https://www.justdial.com/Bangalore/Hotel-Kavin-Opposite-Government-School-Near-Venu-Gopal-Swamy-Temple-Krishnarajapuram/080PXX80-XX80-120328135651-F6G8_BZDET&amp;sa=U&amp;ved=2ahUKEwjr6ZnYwqCCAxUyzzgGHWFcC5AQqoUBegQIABAB&amp;usg=AOvVaw2aPjw-aZffPPzYMA5n7xLF\"><div class=\"kCmkOe\"><img alt=\"\" class=\"DS1iW\" src=\"https://encrypted-tbn0.gstatic.com/images?q=tbn:ANd9GcRUUQ7bVUZFCW7fHGZf7o9piCJ9DJz0VgZ2q7uO5GGySUXXLhfDzCKpsAkicQ&amp;s\"/></div></a></td></tr><tr><td><a href=\"/url?q=https://www.justdial.com/Bangalore/Hotel-Kavin-Opposite-Government-School-Near-Venu-Gopal-Swamy-Temple-Krishnarajapuram/080PXX80-XX80-120328135651-F6G8_BZDET&amp;sa=U&amp;ved=2ahUKEwjr6ZnYwqCCAxUyzzgGHWFcC5AQr4kDegQIABAC&amp;usg=AOvVaw3GrAN1I3ErOn1hKIgt-41i\"><div class=\"AlD19d\"> <span class=\"qXLe6d x3G5ab\"> <span class=\"fYyStc\">hotel-kavin-krishnarajapura...</span> </span> <span class=\"qXLe6d F9iS2e\"> <span class=\"fYyStc\">www.justdial.com</span> </span> </div></a></td></tr></table></div></div> </div> </div></td><td align=\"center\" class=\"e3goi\"><div class=\"jjVJ4e\"> <div> <div class=\"lIMUZd\"><div><table class=\"RntSmf\"><tr><td><a href=\"/url?q=https://uk.linkedin.com/in/kavin-krishna-raj-55256047&amp;sa=U&amp;ved=2ahUKEwjr6ZnYwqCCAxUyzzgGHWFcC5AQqoUBegQIBBAB&amp;usg=AOvVaw1UNPjw-yGCksdgff8WDo7o\"><div class=\"kCmkOe\"><img alt=\"\" class=\"DS1iW\" src=\"https://encrypted-tbn0.gstatic.com/images?q=tbn:ANd9GcQ0s6w0eh2CB8iA50wbQdZIIYQtjdV1t7yoxSAC-Y0652FT4yl5fRFjgdrGTg&amp;s\"/></div></a></td></tr><tr><td><a href=\"/url?q=https://uk.linkedin.com/in/kavin-krishna-raj-55256047&amp;sa=U&amp;ved=2ahUKEwjr6ZnYwqCCAxUyzzgGHWFcC5AQr4kDegQIBBAC&amp;usg=AOvVaw0cu-3bha_HdwLh8GTyvEL1\"><div class=\"AlD19d\"> <span class=\"qXLe6d x3G5ab\"> <span class=\"fYyStc\">Kavin Krishna raj - Sales...</span> </span> <span class=\"qXLe6d F9iS2e\"> <span class=\"fYyStc\">uk.linkedin.com</span> </span> </div></a></td></tr></table></div></div> </div> </div></td><td align=\"center\" class=\"e3goi\"><div class=\"jjVJ4e\"> <div> <div class=\"lIMUZd\"><div><table class=\"RntSmf\"><tr><td><a href=\"/url?q=https://m.timesofindia.com/tv/news/tamil/from-kavin-to-krishna-tv-celebs-sport-a-brand-new-look-during-the-lockdown/photostory/75261418.cms&amp;sa=U&amp;ved=2ahUKEwjr6ZnYwqCCAxUyzzgGHWFcC5AQqoUBegQIAxAB&amp;usg=AOvVaw26bi6WvxU9d3__LqlLd2rs\"><div class=\"kCmkOe\"><img alt=\"\" class=\"DS1iW\" src=\"https://encrypted-tbn0.gstatic.com/images?q=tbn:ANd9GcRDfe8FT4iyQdk_T20CuNMXceKIQOljxifUqEdWVgzup4vepwR-YXGaDL2Ngg&amp;s\"/></div></a></td></tr><tr><td><a href=\"/url?q=https://m.timesofindia.com/tv/news/tamil/from-kavin-to-krishna-tv-celebs-sport-a-brand-new-look-during-the-lockdown/photostory/75261418.cms&amp;sa=U&amp;ved=2ahUKEwjr6ZnYwqCCAxUyzzgGHWFcC5AQr4kDegQIAxAC&amp;usg=AOvVaw16CytiqSDBaRewbQJHUAl5\"><div class=\"AlD19d\"> <span class=\"qXLe6d x3G5ab\"> <span class=\"fYyStc\">From Kavin to Krishna: TV...</span> </span> <span class=\"qXLe6d F9iS2e\"> <span class=\"fYyStc\">m.timesofindia.com</span> </span> </div></a></td></tr></table></div></div> </div> </div></td></tr><tr><td align=\"center\" class=\"e3goi\"><div class=\"jjVJ4e\"> <div> <div class=\"lIMUZd\"><div><table class=\"RntSmf\"><tr><td><a href=\"/url?q=https://www.amazon.in/KAVIN-Festival-Celebration-Krishna-Colours/dp/B0CD823YJB&amp;sa=U&amp;ved=2ahUKEwjr6ZnYwqCCAxUyzzgGHWFcC5AQqoUBegQICBAB&amp;usg=AOvVaw2vbNIywPso2sRtb0lUbuIm\"><div class=\"kCmkOe\"><img alt=\"\" class=\"DS1iW\" src=\"https://encrypted-tbn0.gstatic.com/images?q=tbn:ANd9GcRNfi_3TB4or9Ps7uQqx2EZdmT-gOWRAJoQXzoX3ZpUSVLWykDUji7VkHunvY8&amp;s\"/></div></a></td></tr><tr><td><a href=\"/url?q=https://www.amazon.in/KAVIN-Festival-Celebration-Krishna-Colours/dp/B0CD823YJB&amp;sa=U&amp;ved=2ahUKEwjr6ZnYwqCCAxUyzzgGHWFcC5AQr4kDegQICBAC&amp;usg=AOvVaw1iKJQS3qmQBN8uj3tFP7f_\"><div class=\"AlD19d\"> <span class=\"qXLe6d x3G5ab\"> <span class=\"fYyStc\">Buy KAVIN Kanha Kurta With...</span> </span> <span class=\"qXLe6d F9iS2e\"> <span class=\"fYyStc\">www.amazon.in</span> </span> </div></a></td></tr></table></div></div> </div> </div></td><td align=\"center\" class=\"e3goi\"><div class=\"jjVJ4e\"> <div> <div class=\"lIMUZd\"><div><table class=\"RntSmf\"><tr><td><a href=\"/url?q=https://www.amazon.in/KAVIN-Crafted-Janamashtami-Decoration-Colours/dp/B0C9T7C669&amp;sa=U&amp;ved=2ahUKEwjr6ZnYwqCCAxUyzzgGHWFcC5AQqoUBegQIBxAB&amp;usg=AOvVaw36RSYEfLgCd8XfWZka_F2Z\"><div class=\"kCmkOe\"><img alt=\"\" class=\"DS1iW\" src=\"https://encrypted-tbn0.gstatic.com/images?q=tbn:ANd9GcRp5GI4xfjkn0jH-TVS-LOuWmk01Ekl_TNlpO3uFXtBr9VRFeKRiTWttYr3y-8&amp;s\"/></div></a></td></tr><tr><td><a href=\"/url?q=https://www.amazon.in/KAVIN-Crafted-Janamashtami-Decoration-Colours/dp/B0C9T7C669&amp;sa=U&amp;ved=2ahUKEwjr6ZnYwqCCAxUyzzgGHWFcC5AQr4kDegQIBxAC&amp;usg=AOvVaw01e2Qr0GRtCdlK1AMgMi-g\"><div class=\"AlD19d\"> <span class=\"qXLe6d x3G5ab\"> <span class=\"fYyStc\">KAVIN Hand Crafted Kanha...</span> </span> <span class=\"qXLe6d F9iS2e\"> <span class=\"fYyStc\">www.amazon.in</span> </span> </div></a></td></tr></table></div></div> </div> </div></td><td align=\"center\" class=\"e3goi\"><div class=\"jjVJ4e\"> <div> <div class=\"lIMUZd\"><div><table class=\"RntSmf\"><tr><td><a href=\"/url?q=https://in.linkedin.com/in/kavin-kumar-ab1331246&amp;sa=U&amp;ved=2ahUKEwjr6ZnYwqCCAxUyzzgGHWFcC5AQqoUBegQIARAB&amp;usg=AOvVaw1yIsVVY3xEFxUTbsCoz6NT\"><div class=\"kCmkOe\"><img alt=\"\" class=\"DS1iW\" src=\"https://encrypted-tbn0.gstatic.com/images?q=tbn:ANd9GcQTx_ZcEVDFf8_T4_5cXkCQJ3EiIBhvbZb00Tr6FdWm50Dhw-G4FHVensrmpA&amp;s\"/></div></a></td></tr><tr><td><a href=\"/url?q=https://in.linkedin.com/in/kavin-kumar-ab1331246&amp;sa=U&amp;ved=2ahUKEwjr6ZnYwqCCAxUyzzgGHWFcC5AQr4kDegQIARAC&amp;usg=AOvVaw1FjMwJBgLKc46ZfzPLrJGZ\"><div class=\"AlD19d\"> <span class=\"qXLe6d x3G5ab\"> <span class=\"fYyStc\">Kavin Kumar - Sri Krishna...</span> </span> <span class=\"qXLe6d F9iS2e\"> <span class=\"fYyStc\">in.linkedin.com</span> </span> </div></a></td></tr></table></div></div> </div> </div></td><td align=\"center\" class=\"e3goi\"><div class=\"jjVJ4e\"> <div> <div class=\"lIMUZd\"><div><table class=\"RntSmf\"><tr><td><a href=\"/url?q=https://in.linkedin.com/in/krishna-kavin-s-26a182280&amp;sa=U&amp;ved=2ahUKEwjr6ZnYwqCCAxUyzzgGHWFcC5AQqoUBegQIBhAB&amp;usg=AOvVaw2JUfZEalKTqQlTAroh6t-s\"><div class=\"kCmkOe\"><img alt=\"\" class=\"DS1iW\" src=\"https://encrypted-tbn0.gstatic.com/images?q=tbn:ANd9GcQ9qnJkbr9nkFL9YwJbhFPoElTSqizeXF4JPrNGCksYCrtLEdSHwCl6gxvlHw&amp;s\"/></div></a></td></tr><tr><td><a href=\"/url?q=https://in.linkedin.com/in/krishna-kavin-s-26a182280&amp;sa=U&amp;ved=2ahUKEwjr6ZnYwqCCAxUyzzgGHWFcC5AQr4kDegQIBhAC&amp;usg=AOvVaw0dT_vfG9Rm8fJmOvafiOTo\"><div class=\"AlD19d\"> <span class=\"qXLe6d x3G5ab\"> <span class=\"fYyStc\">KRISHNA KAVIN S - Dr ngp...</span> </span> <span class=\"qXLe6d F9iS2e\"> <span class=\"fYyStc\">in.linkedin.com</span> </span> </div></a></td></tr></table></div></div> </div> </div></td></tr></table></div><table class=\"uZgmoc\"><tbody><td><a class=\"frGj1b\" href=\"/search?q=kavin+krishna&amp;sca_esv=578154760&amp;biw=767&amp;bih=728&amp;ie=UTF-8&amp;tbm=isch&amp;ei=ZhJBZeueJrKe4-EP4bitgAk&amp;start=20&amp;sa=N\">Next &gt;</a></td></tbody></table><br/><div class=\"TuS8Ad\" data-ved=\"0ahUKEwjr6ZnYwqCCAxUyzzgGHWFcC5AQpyoIUg\"><style>.VYM29{font-weight:bold}</style><div align=\"center\" class=\"HddGcc\"><span class=\"VYM29\">Maharashtra</span><span> - </span><span>From your IP address</span><span> - </span><a href=\"/url?q=https://support.google.com/websearch%3Fp%3Dws_settings_location%26hl%3Den-IN&amp;opi=89978449&amp;sa=U&amp;ved=0ahUKEwjr6ZnYwqCCAxUyzzgGHWFcC5AQty4IUw&amp;usg=AOvVaw0fZwiGouJrUfzeieDmDqO4\">Learn more</a></div><div align=\"center\"><a class=\"rEM8G\" href=\"/url?q=https://accounts.google.com/ServiceLogin%3Fcontinue%3Dhttps://www.google.com/search%253Fq%253Dkavin%252Bkrishna%2526sca_esv%253D578154760%2526tbm%253Disch%2526sxsrf%253DAM9HkKkeFu-Qi0GXayxym8gb5NEvrhjFUg:1698761925191%2526source%253Dhp%2526biw%253D767%2526bih%253D728%2526ei%253DxQxBZf21CcTV1e8P0qiE2Ac%2526iflsig%253DAO6bgOgAAAAAZUEa1bhY-YR7QUF0hw9PhUNHfRUhVWan%2526ved%253D0ahUKEwi9rO2ovaCCAxXEavUHHVIUAXsQ4dUDCAc%2526uact%253D5%2526oq%253Dkavin%252Bkrishna%2526gs_lp%253DEgNpbWciDWthdmluIGtyaXNobmEyBxAAGBgYgAQyBxAAGBgYgAQyBxAAGBgYgARIsThQ2AhYwihwAXgAkAEAmAHcAaABjBGqAQYwLjExLjK4AQPIAQD4AQGKAgtnd3Mtd2l6LWltZ6gCCsICBxAjGOoCGCfCAgQQIxgnwgIIEAAYsQMYgwHCAgUQABiABMICCBAAGIAEGLEDwgILEAAYgAQYsQMYgwHCAgQQABgD%2526sclient%253Dimg%26hl%3Den&amp;opi=89978449&amp;sa=U&amp;ved=0ahUKEwjr6ZnYwqCCAxUyzzgGHWFcC5AQxs8CCFQ&amp;usg=AOvVaw07gWOs3bYXJeSne0mYOfgM\">Sign in</a></div><div><table class=\"bookcf\"><tbody class=\"InWNIe\"><tr><td><a class=\"rEM8G\" href=\"https://www.google.com/preferences?hl=en&amp;sa=X&amp;ved=0ahUKEwjr6ZnYwqCCAxUyzzgGHWFcC5AQv5YECFU\">Settings</a></td><td><a class=\"rEM8G\" href=\"https://www.google.com/intl/en_in/policies/privacy/\">Privacy</a></td><td><a class=\"rEM8G\" href=\"https://www.google.com/intl/en_in/policies/terms/\">Terms</a></td></tr></tbody></table></div></div><div> </div></body></html>"
      ]
     },
     "execution_count": 16,
     "metadata": {},
     "output_type": "execute_result"
    }
   ],
   "source": [
    "soup = BeautifulSoup(response.content,'html.parser')\n",
    "soup"
   ]
  },
  {
   "cell_type": "code",
   "execution_count": 17,
   "id": "2e70d9e4-8bcc-4f25-8f8f-d32b1d46f0b6",
   "metadata": {},
   "outputs": [
    {
     "data": {
      "text/plain": [
       "[<img alt=\"Google\" class=\"kgJEQe\" src=\"/images/branding/searchlogo/1x/googlelogo_desk_heirloom_color_150x55dp.gif\"/>,\n",
       " <img alt=\"\" class=\"DS1iW\" src=\"https://encrypted-tbn0.gstatic.com/images?q=tbn:ANd9GcTKqdUKEX2-8d-EeoSLAiicpLY38M_KWt300OVlNwpMTNngyQ78Zx3BpYug6A&amp;s\"/>,\n",
       " <img alt=\"\" class=\"DS1iW\" src=\"https://encrypted-tbn0.gstatic.com/images?q=tbn:ANd9GcSD2_PItau9pd-NQ5bVz1aU17S85sNvVGivuSMV8r2lpq7OxrQ-tG11I6b3QA&amp;s\"/>,\n",
       " <img alt=\"\" class=\"DS1iW\" src=\"https://encrypted-tbn0.gstatic.com/images?q=tbn:ANd9GcRCf32n6Zi7xRqi2UnRAI3zwhSLl4Lu0gOl_qa63Kx3TAdQKCrUXGJ2XdRXGg&amp;s\"/>,\n",
       " <img alt=\"\" class=\"DS1iW\" src=\"https://encrypted-tbn0.gstatic.com/images?q=tbn:ANd9GcQMr2TH95LMWScmhPU1XPb9srhhLmcMQgRNjTbvfpvq0tShg3pTKfgmS0XOIv0&amp;s\"/>,\n",
       " <img alt=\"\" class=\"DS1iW\" src=\"https://encrypted-tbn0.gstatic.com/images?q=tbn:ANd9GcSoU7V4yrb6L2FHLUyWz2U86EkuEeCmEx9YD9lnFsopt07DeBmjmh4WsRvco44&amp;s\"/>,\n",
       " <img alt=\"\" class=\"DS1iW\" src=\"https://encrypted-tbn0.gstatic.com/images?q=tbn:ANd9GcTBzD0sFR31W0rAjVKsU5cy4AS_GwGc-EeBQrWl1qYMK_NdSabRdGnXM9BsBA&amp;s\"/>,\n",
       " <img alt=\"\" class=\"DS1iW\" src=\"https://encrypted-tbn0.gstatic.com/images?q=tbn:ANd9GcRpeRx4JoMKCUsu5k3Abwj-32LU9htugsKnnv8-Bmoz-JPpCxk57jNh8313P6o&amp;s\"/>,\n",
       " <img alt=\"\" class=\"DS1iW\" src=\"https://encrypted-tbn0.gstatic.com/images?q=tbn:ANd9GcSYS7UrcNz7Q6JMTo9hGKfeU4ArdGaneoJPo6Hd_5u0YHQjG2oJ8w_2xBHcDCM&amp;s\"/>,\n",
       " <img alt=\"\" class=\"DS1iW\" src=\"https://encrypted-tbn0.gstatic.com/images?q=tbn:ANd9GcRGauGFNhWetvX4KpXrBYNpk6Nmd93R7XrlSULnANDp3EzKqhu1St0NKJQfQA&amp;s\"/>,\n",
       " <img alt=\"\" class=\"DS1iW\" src=\"https://encrypted-tbn0.gstatic.com/images?q=tbn:ANd9GcTMVZN554lmw9hOAUpbTFknKt73KcR_i_AWcp02F4NiBez3k8_VczarAC2HXw&amp;s\"/>,\n",
       " <img alt=\"\" class=\"DS1iW\" src=\"https://encrypted-tbn0.gstatic.com/images?q=tbn:ANd9GcRf9wnL8IMJ6ZYbBtkHWrECWCAeeKjaSBWV2joJfnF6daVacNEQ3shBvCUZXww&amp;s\"/>,\n",
       " <img alt=\"\" class=\"DS1iW\" src=\"https://encrypted-tbn0.gstatic.com/images?q=tbn:ANd9GcRqKrAZ-_RffakzaXiehsUXy1WYONr7UcOW7m3wBJlHWt3pVVMge-TFk5zchA&amp;s\"/>,\n",
       " <img alt=\"\" class=\"DS1iW\" src=\"https://encrypted-tbn0.gstatic.com/images?q=tbn:ANd9GcSjDFKgXQqOLaOSsAWjTGuv5KmCV7qN1m_586nDw7jMaT-Li5ChfqJo4yr97U8&amp;s\"/>,\n",
       " <img alt=\"\" class=\"DS1iW\" src=\"https://encrypted-tbn0.gstatic.com/images?q=tbn:ANd9GcRUUQ7bVUZFCW7fHGZf7o9piCJ9DJz0VgZ2q7uO5GGySUXXLhfDzCKpsAkicQ&amp;s\"/>,\n",
       " <img alt=\"\" class=\"DS1iW\" src=\"https://encrypted-tbn0.gstatic.com/images?q=tbn:ANd9GcQ0s6w0eh2CB8iA50wbQdZIIYQtjdV1t7yoxSAC-Y0652FT4yl5fRFjgdrGTg&amp;s\"/>,\n",
       " <img alt=\"\" class=\"DS1iW\" src=\"https://encrypted-tbn0.gstatic.com/images?q=tbn:ANd9GcRDfe8FT4iyQdk_T20CuNMXceKIQOljxifUqEdWVgzup4vepwR-YXGaDL2Ngg&amp;s\"/>,\n",
       " <img alt=\"\" class=\"DS1iW\" src=\"https://encrypted-tbn0.gstatic.com/images?q=tbn:ANd9GcRNfi_3TB4or9Ps7uQqx2EZdmT-gOWRAJoQXzoX3ZpUSVLWykDUji7VkHunvY8&amp;s\"/>,\n",
       " <img alt=\"\" class=\"DS1iW\" src=\"https://encrypted-tbn0.gstatic.com/images?q=tbn:ANd9GcRp5GI4xfjkn0jH-TVS-LOuWmk01Ekl_TNlpO3uFXtBr9VRFeKRiTWttYr3y-8&amp;s\"/>,\n",
       " <img alt=\"\" class=\"DS1iW\" src=\"https://encrypted-tbn0.gstatic.com/images?q=tbn:ANd9GcQTx_ZcEVDFf8_T4_5cXkCQJ3EiIBhvbZb00Tr6FdWm50Dhw-G4FHVensrmpA&amp;s\"/>,\n",
       " <img alt=\"\" class=\"DS1iW\" src=\"https://encrypted-tbn0.gstatic.com/images?q=tbn:ANd9GcQ9qnJkbr9nkFL9YwJbhFPoElTSqizeXF4JPrNGCksYCrtLEdSHwCl6gxvlHw&amp;s\"/>]"
      ]
     },
     "execution_count": 17,
     "metadata": {},
     "output_type": "execute_result"
    }
   ],
   "source": [
    "image_tags = soup.find_all(\"img\")\n",
    "image_tags"
   ]
  },
  {
   "cell_type": "code",
   "execution_count": 18,
   "id": "528359ab-940d-4116-84a0-b672e1e042e9",
   "metadata": {},
   "outputs": [
    {
     "data": {
      "text/plain": [
       "21"
      ]
     },
     "execution_count": 18,
     "metadata": {},
     "output_type": "execute_result"
    }
   ],
   "source": [
    "len(image_tags)"
   ]
  },
  {
   "cell_type": "code",
   "execution_count": 19,
   "id": "a9d0dab0-8cfd-46ff-beaa-706efa688ed7",
   "metadata": {},
   "outputs": [],
   "source": [
    "del image_tags[0]"
   ]
  },
  {
   "cell_type": "code",
   "execution_count": 20,
   "id": "ac581567-e7bb-4bf1-b498-30230e63a217",
   "metadata": {},
   "outputs": [
    {
     "data": {
      "text/plain": [
       "[<img alt=\"\" class=\"DS1iW\" src=\"https://encrypted-tbn0.gstatic.com/images?q=tbn:ANd9GcTKqdUKEX2-8d-EeoSLAiicpLY38M_KWt300OVlNwpMTNngyQ78Zx3BpYug6A&amp;s\"/>,\n",
       " <img alt=\"\" class=\"DS1iW\" src=\"https://encrypted-tbn0.gstatic.com/images?q=tbn:ANd9GcSD2_PItau9pd-NQ5bVz1aU17S85sNvVGivuSMV8r2lpq7OxrQ-tG11I6b3QA&amp;s\"/>,\n",
       " <img alt=\"\" class=\"DS1iW\" src=\"https://encrypted-tbn0.gstatic.com/images?q=tbn:ANd9GcRCf32n6Zi7xRqi2UnRAI3zwhSLl4Lu0gOl_qa63Kx3TAdQKCrUXGJ2XdRXGg&amp;s\"/>,\n",
       " <img alt=\"\" class=\"DS1iW\" src=\"https://encrypted-tbn0.gstatic.com/images?q=tbn:ANd9GcQMr2TH95LMWScmhPU1XPb9srhhLmcMQgRNjTbvfpvq0tShg3pTKfgmS0XOIv0&amp;s\"/>,\n",
       " <img alt=\"\" class=\"DS1iW\" src=\"https://encrypted-tbn0.gstatic.com/images?q=tbn:ANd9GcSoU7V4yrb6L2FHLUyWz2U86EkuEeCmEx9YD9lnFsopt07DeBmjmh4WsRvco44&amp;s\"/>,\n",
       " <img alt=\"\" class=\"DS1iW\" src=\"https://encrypted-tbn0.gstatic.com/images?q=tbn:ANd9GcTBzD0sFR31W0rAjVKsU5cy4AS_GwGc-EeBQrWl1qYMK_NdSabRdGnXM9BsBA&amp;s\"/>,\n",
       " <img alt=\"\" class=\"DS1iW\" src=\"https://encrypted-tbn0.gstatic.com/images?q=tbn:ANd9GcRpeRx4JoMKCUsu5k3Abwj-32LU9htugsKnnv8-Bmoz-JPpCxk57jNh8313P6o&amp;s\"/>,\n",
       " <img alt=\"\" class=\"DS1iW\" src=\"https://encrypted-tbn0.gstatic.com/images?q=tbn:ANd9GcSYS7UrcNz7Q6JMTo9hGKfeU4ArdGaneoJPo6Hd_5u0YHQjG2oJ8w_2xBHcDCM&amp;s\"/>,\n",
       " <img alt=\"\" class=\"DS1iW\" src=\"https://encrypted-tbn0.gstatic.com/images?q=tbn:ANd9GcRGauGFNhWetvX4KpXrBYNpk6Nmd93R7XrlSULnANDp3EzKqhu1St0NKJQfQA&amp;s\"/>,\n",
       " <img alt=\"\" class=\"DS1iW\" src=\"https://encrypted-tbn0.gstatic.com/images?q=tbn:ANd9GcTMVZN554lmw9hOAUpbTFknKt73KcR_i_AWcp02F4NiBez3k8_VczarAC2HXw&amp;s\"/>,\n",
       " <img alt=\"\" class=\"DS1iW\" src=\"https://encrypted-tbn0.gstatic.com/images?q=tbn:ANd9GcRf9wnL8IMJ6ZYbBtkHWrECWCAeeKjaSBWV2joJfnF6daVacNEQ3shBvCUZXww&amp;s\"/>,\n",
       " <img alt=\"\" class=\"DS1iW\" src=\"https://encrypted-tbn0.gstatic.com/images?q=tbn:ANd9GcRqKrAZ-_RffakzaXiehsUXy1WYONr7UcOW7m3wBJlHWt3pVVMge-TFk5zchA&amp;s\"/>,\n",
       " <img alt=\"\" class=\"DS1iW\" src=\"https://encrypted-tbn0.gstatic.com/images?q=tbn:ANd9GcSjDFKgXQqOLaOSsAWjTGuv5KmCV7qN1m_586nDw7jMaT-Li5ChfqJo4yr97U8&amp;s\"/>,\n",
       " <img alt=\"\" class=\"DS1iW\" src=\"https://encrypted-tbn0.gstatic.com/images?q=tbn:ANd9GcRUUQ7bVUZFCW7fHGZf7o9piCJ9DJz0VgZ2q7uO5GGySUXXLhfDzCKpsAkicQ&amp;s\"/>,\n",
       " <img alt=\"\" class=\"DS1iW\" src=\"https://encrypted-tbn0.gstatic.com/images?q=tbn:ANd9GcQ0s6w0eh2CB8iA50wbQdZIIYQtjdV1t7yoxSAC-Y0652FT4yl5fRFjgdrGTg&amp;s\"/>,\n",
       " <img alt=\"\" class=\"DS1iW\" src=\"https://encrypted-tbn0.gstatic.com/images?q=tbn:ANd9GcRDfe8FT4iyQdk_T20CuNMXceKIQOljxifUqEdWVgzup4vepwR-YXGaDL2Ngg&amp;s\"/>,\n",
       " <img alt=\"\" class=\"DS1iW\" src=\"https://encrypted-tbn0.gstatic.com/images?q=tbn:ANd9GcRNfi_3TB4or9Ps7uQqx2EZdmT-gOWRAJoQXzoX3ZpUSVLWykDUji7VkHunvY8&amp;s\"/>,\n",
       " <img alt=\"\" class=\"DS1iW\" src=\"https://encrypted-tbn0.gstatic.com/images?q=tbn:ANd9GcRp5GI4xfjkn0jH-TVS-LOuWmk01Ekl_TNlpO3uFXtBr9VRFeKRiTWttYr3y-8&amp;s\"/>,\n",
       " <img alt=\"\" class=\"DS1iW\" src=\"https://encrypted-tbn0.gstatic.com/images?q=tbn:ANd9GcQTx_ZcEVDFf8_T4_5cXkCQJ3EiIBhvbZb00Tr6FdWm50Dhw-G4FHVensrmpA&amp;s\"/>,\n",
       " <img alt=\"\" class=\"DS1iW\" src=\"https://encrypted-tbn0.gstatic.com/images?q=tbn:ANd9GcQ9qnJkbr9nkFL9YwJbhFPoElTSqizeXF4JPrNGCksYCrtLEdSHwCl6gxvlHw&amp;s\"/>]"
      ]
     },
     "execution_count": 20,
     "metadata": {},
     "output_type": "execute_result"
    }
   ],
   "source": [
    "image_tags"
   ]
  },
  {
   "cell_type": "code",
   "execution_count": 22,
   "id": "15a59cb7-75d4-42d2-b42c-61211b547f88",
   "metadata": {},
   "outputs": [],
   "source": [
    "for i in image_tags:\n",
    "    image_url = i['src']\n",
    "    image_data = requests.get(image_url).content\n",
    "    with open(os.path.join(save_dir, f\"{response}_{image_tags.index(i)}.jpg\"), \"wb\") as f:\n",
    "        f.write(image_data)"
   ]
  },
  {
   "cell_type": "code",
   "execution_count": null,
   "id": "0a25e793-495a-42db-a307-c0f96793f7a3",
   "metadata": {},
   "outputs": [],
   "source": []
  }
 ],
 "metadata": {
  "kernelspec": {
   "display_name": "Python 3 (ipykernel)",
   "language": "python",
   "name": "python3"
  },
  "language_info": {
   "codemirror_mode": {
    "name": "ipython",
    "version": 3
   },
   "file_extension": ".py",
   "mimetype": "text/x-python",
   "name": "python",
   "nbconvert_exporter": "python",
   "pygments_lexer": "ipython3",
   "version": "3.10.8"
  }
 },
 "nbformat": 4,
 "nbformat_minor": 5
}
